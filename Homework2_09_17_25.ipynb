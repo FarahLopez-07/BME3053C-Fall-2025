{
  "nbformat": 4,
  "nbformat_minor": 0,
  "metadata": {
    "colab": {
      "provenance": [],
      "authorship_tag": "ABX9TyP2907x0K+tZChTJZo7lHrU",
      "include_colab_link": true
    },
    "kernelspec": {
      "name": "python3",
      "display_name": "Python 3"
    },
    "language_info": {
      "name": "python"
    }
  },
  "cells": [
    {
      "cell_type": "markdown",
      "metadata": {
        "id": "view-in-github",
        "colab_type": "text"
      },
      "source": [
        "<a href=\"https://colab.research.google.com/github/FarahLopez-07/BME3053C-Fall-2025/blob/main/Homework2_09_17_25.ipynb\" target=\"_parent\"><img src=\"https://colab.research.google.com/assets/colab-badge.svg\" alt=\"Open In Colab\"/></a>"
      ]
    },
    {
      "cell_type": "code",
      "source": [
        "def normalize_readings(readings):\n",
        "  min_value = min(readings)\n",
        "  max_value = max(readings)\n",
        "\n",
        "  normalized = []\n",
        "  for x in readings:\n",
        "    norm_val = (x - min_value) / (max_value - min_value)\n",
        "    normalized.append(norm_val)\n",
        "  return normalized\n",
        "\n",
        "bp_readings = [120, 137, 151, 123, 162, 173, 127, 154]\n",
        "normalized_bp = normalize_readings(bp_readings)\n",
        "print(normalized_bp)"
      ],
      "metadata": {
        "colab": {
          "base_uri": "https://localhost:8080/"
        },
        "id": "cH_E9tA4fXZe",
        "outputId": "794c1815-1aac-4e67-8e6d-85803ae1e428"
      },
      "execution_count": 8,
      "outputs": [
        {
          "output_type": "stream",
          "name": "stdout",
          "text": [
            "[0.0, 0.32075471698113206, 0.5849056603773585, 0.05660377358490566, 0.7924528301886793, 1.0, 0.1320754716981132, 0.6415094339622641]\n"
          ]
        }
      ]
    },
    {
      "cell_type": "markdown",
      "source": [],
      "metadata": {
        "id": "OeZnWI5NgRAX"
      }
    }
  ]
}