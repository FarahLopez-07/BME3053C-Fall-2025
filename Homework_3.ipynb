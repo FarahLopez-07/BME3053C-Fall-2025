{
  "nbformat": 4,
  "nbformat_minor": 0,
  "metadata": {
    "colab": {
      "provenance": [],
      "authorship_tag": "ABX9TyPARjiLkY2I/JdIccIzazgE",
      "include_colab_link": true
    },
    "kernelspec": {
      "name": "python3",
      "display_name": "Python 3"
    },
    "language_info": {
      "name": "python"
    }
  },
  "cells": [
    {
      "cell_type": "markdown",
      "metadata": {
        "id": "view-in-github",
        "colab_type": "text"
      },
      "source": [
        "<a href=\"https://colab.research.google.com/github/FarahLopez-07/BME3053C-Fall-2025/blob/main/Homework_3.ipynb\" target=\"_parent\"><img src=\"https://colab.research.google.com/assets/colab-badge.svg\" alt=\"Open In Colab\"/></a>"
      ]
    },
    {
      "cell_type": "code",
      "execution_count": 1,
      "metadata": {
        "colab": {
          "base_uri": "https://localhost:8080/"
        },
        "id": "Jys590hsWPgX",
        "outputId": "2bc65773-064d-4853-89c7-539551518715"
      },
      "outputs": [
        {
          "output_type": "stream",
          "name": "stdout",
          "text": [
            "Number of peaks in the PPG signal: 26\n"
          ]
        }
      ],
      "source": [
        "import math\n",
        "import random\n",
        "\n",
        "# Generate simulated PPG signal\n",
        "ppg_signal = [1000 + 100 * math.sin(0.1 * x) + random.randint(-20, 20) for x in range(100)]\n",
        "\n",
        "def count_peaks(ppg_signal):\n",
        "    peak_count = 0\n",
        "\n",
        "    # Iterate from index 1 to len - 2 to avoid out-of-bounds access\n",
        "    for i in range(1, len(ppg_signal) - 1):\n",
        "        if ppg_signal[i] > ppg_signal[i - 1] and ppg_signal[i] > ppg_signal[i + 1]:\n",
        "            peak_count += 1\n",
        "\n",
        "    print(f\"Number of peaks in the PPG signal: {peak_count}\")\n",
        "\n",
        "# Call the function with the generated signal\n",
        "count_peaks(ppg_signal)"
      ]
    }
  ]
}